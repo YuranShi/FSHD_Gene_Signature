{
 "cells": [
  {
   "cell_type": "markdown",
   "metadata": {
    "pycharm": {
     "name": "#%% md\n"
    }
   },
   "source": [
    "Boruta Feature Selection\n",
    "--\n",
    "Boruta is a feature selection algorithm. Precisely, it works as a wrapper algorithm around Random Forest. Boruta follows an all-relevant feature selection method where it captures all features which are in some circumstances relevant to the outcome variable.\n",
    "\n",
    "#### How it works?\n",
    "Below is the step wise working of boruta algorithm:\n",
    "1. Firstly, it adds randomness to the given data set by creating shuffled copies of all features (which are called shadow features).\n",
    "2. Then, it trains a random forest classifier on the extended data set and applies a feature importance measure (the default is Mean Decrease Accuracy) to evaluate the importance of each feature where higher means more important.\n",
    "3. At every iteration, it checks whether a real feature has a higher importance than the best of its shadow features (i.e. whether the feature has a higher Z score than the maximum Z score of its shadow features) and constantly removes features which are deemed highly unimportant.\n",
    "4. Finally, the algorithm stops either when all features gets confirmed or rejected or it reaches a specified limit of random forest runs.\n",
    "\n",
    "[Reference](analyticsvidhya.com/blog/2016/03/select-important-variables-boruta-package/)"
   ]
  },
  {
   "cell_type": "code",
   "execution_count": 1,
   "metadata": {
    "pycharm": {
     "name": "#%%\n"
    }
   },
   "outputs": [],
   "source": [
    "import numpy as np\n",
    "import pandas as pd\n",
    "from boruta import BorutaPy\n",
    "from numpy import mean, std\n",
    "from sklearn.ensemble import RandomForestClassifier\n",
    "from sklearn.metrics import roc_auc_score, make_scorer\n",
    "from sklearn.model_selection import RepeatedStratifiedKFold\n",
    "from sklearn.model_selection import cross_validate\n",
    "from sklearn.model_selection import train_test_split\n",
    "from sklearn.preprocessing import label_binarize\n",
    "\n",
    "from preprocess import load_data"
   ]
  },
  {
   "cell_type": "markdown",
   "metadata": {
    "pycharm": {
     "name": "#%% md\n"
    }
   },
   "source": [
    "### Load Data"
   ]
  },
  {
   "cell_type": "code",
   "execution_count": 2,
   "metadata": {
    "pycharm": {
     "name": "#%%\n"
    }
   },
   "outputs": [],
   "source": [
    "from preprocess import feature_scaling\n",
    "\n",
    "GSE_list = [\"GSE140261\", \"GSE115650\", \"Heuvel_expression\"]\n",
    "sig_list = ['DUX4_target', 'D4Z4_interactome', 'PAX7_target']\n",
    "feature, label = load_data(GSE_list, sig_list, signature_version='v0')\n",
    "feature = feature_scaling(feature, scaler='PowerTransformer')\n",
    "label = label_binarize(label, classes=['FSHD', 'Control'])\n",
    "X_train, X_test, y_train, y_test = train_test_split(feature, label, test_size=.2, random_state=1)  # for boruta"
   ]
  },
  {
   "cell_type": "markdown",
   "metadata": {
    "pycharm": {
     "name": "#%% md\n"
    }
   },
   "source": [
    "### Random Forest Model (all features)\n",
    "\n",
    "We first obtain the ROC_AUC score using all available features."
   ]
  },
  {
   "cell_type": "code",
   "execution_count": 4,
   "metadata": {
    "pycharm": {
     "name": "#%%\n"
    }
   },
   "outputs": [
    {
     "name": "stderr",
     "output_type": "stream",
     "text": [
      "[Parallel(n_jobs=-1)]: Using backend LokyBackend with 8 concurrent workers.\n",
      "[Parallel(n_jobs=-1)]: Done  34 tasks      | elapsed:   11.0s\n",
      "[Parallel(n_jobs=-1)]: Done  50 out of  50 | elapsed:   12.1s finished\n"
     ]
    }
   ],
   "source": [
    "rf_all_features = RandomForestClassifier()\n",
    "\n",
    "cv_splitter = RepeatedStratifiedKFold(n_splits=5, n_repeats=10, random_state=42)\n",
    "cv_result = cross_validate(rf_all_features, feature, label.flatten(),\n",
    "                           cv=cv_splitter,\n",
    "                           verbose=1,\n",
    "                           scoring=make_scorer(roc_auc_score, greater_is_better=True, needs_threshold=True),\n",
    "                           n_jobs=-1)"
   ]
  },
  {
   "cell_type": "code",
   "execution_count": 5,
   "outputs": [
    {
     "data": {
      "text/plain": "{'fit_time': array([0.480021  , 0.45151162, 0.44410825, 0.46247673, 0.49751949,\n        0.42931151, 0.45930362, 0.46452689, 0.43365097, 0.42340398,\n        0.48400211, 0.4745419 , 0.45529294, 0.44274282, 0.46195698,\n        0.44282246, 0.45381284, 0.45320368, 0.41496181, 0.44342804,\n        0.44396091, 0.46120906, 0.41444421, 0.41548347, 0.43422675,\n        0.42354369, 0.43297124, 0.48543119, 0.46565723, 0.43361807,\n        0.42400503, 0.42388058, 0.44201994, 0.41384006, 0.45377517,\n        0.44124842, 0.43360162, 0.45131755, 0.44017124, 0.42200494,\n        0.5448215 , 0.42284203, 0.43846321, 0.55493164, 0.58603954,\n        0.49627018, 0.42677236, 0.43284559, 0.43295193, 0.43534255]),\n 'score_time': array([0.04565525, 0.05068541, 0.03633332, 0.03934431, 0.04027963,\n        0.04268575, 0.05136037, 0.0468545 , 0.04027534, 0.03818154,\n        0.04004836, 0.05533361, 0.04009247, 0.04029369, 0.04028654,\n        0.04026508, 0.03949928, 0.04071736, 0.03951764, 0.04747438,\n        0.0383358 , 0.03506184, 0.04021382, 0.04918504, 0.04017448,\n        0.04062271, 0.04031372, 0.04483008, 0.03885388, 0.04011846,\n        0.04110813, 0.06142592, 0.04224443, 0.03993511, 0.04023337,\n        0.03247166, 0.04803801, 0.06039834, 0.03220129, 0.04006553,\n        0.04955173, 0.04861546, 0.037709  , 0.0407145 , 0.04016066,\n        0.0472014 , 0.06297851, 0.04050207, 0.03078556, 0.0202384 ]),\n 'test_score': array([0.88333333, 0.58928571, 0.84821429, 0.73125   , 0.946875  ,\n        0.69166667, 0.88988095, 0.83928571, 0.88125   , 0.846875  ,\n        0.91111111, 0.88392857, 0.73214286, 0.7375    , 0.796875  ,\n        0.8       , 0.80654762, 0.82738095, 0.79375   , 0.89375   ,\n        0.89444444, 0.98809524, 0.86309524, 0.746875  , 0.51875   ,\n        0.875     , 0.83333333, 0.62202381, 0.99375   , 0.803125  ,\n        0.88055556, 0.75297619, 0.72916667, 0.765625  , 1.        ,\n        0.97222222, 0.7827381 , 0.72916667, 0.715625  , 0.86875   ,\n        0.71388889, 0.86904762, 0.8125    , 0.875     , 0.865625  ,\n        0.70277778, 0.73511905, 0.98809524, 0.840625  , 0.81875   ])}"
     },
     "execution_count": 5,
     "metadata": {},
     "output_type": "execute_result"
    }
   ],
   "source": [
    "cv_result"
   ],
   "metadata": {
    "collapsed": false,
    "pycharm": {
     "name": "#%%\n"
    }
   }
  },
  {
   "cell_type": "code",
   "execution_count": 6,
   "metadata": {
    "pycharm": {
     "name": "#%%\n"
    }
   },
   "outputs": [
    {
     "name": "stdout",
     "output_type": "stream",
     "text": [
      "ROC_AUC score for all tests:\n"
     ]
    },
    {
     "data": {
      "text/plain": "array([0.88333333, 0.58928571, 0.84821429, 0.73125   , 0.946875  ,\n       0.69166667, 0.88988095, 0.83928571, 0.88125   , 0.846875  ,\n       0.91111111, 0.88392857, 0.73214286, 0.7375    , 0.796875  ,\n       0.8       , 0.80654762, 0.82738095, 0.79375   , 0.89375   ,\n       0.89444444, 0.98809524, 0.86309524, 0.746875  , 0.51875   ,\n       0.875     , 0.83333333, 0.62202381, 0.99375   , 0.803125  ,\n       0.88055556, 0.75297619, 0.72916667, 0.765625  , 1.        ,\n       0.97222222, 0.7827381 , 0.72916667, 0.715625  , 0.86875   ,\n       0.71388889, 0.86904762, 0.8125    , 0.875     , 0.865625  ,\n       0.70277778, 0.73511905, 0.98809524, 0.840625  , 0.81875   ])"
     },
     "execution_count": 6,
     "metadata": {},
     "output_type": "execute_result"
    }
   ],
   "source": [
    "print('ROC_AUC score for all tests:')\n",
    "cv_result.get('test_score')"
   ]
  },
  {
   "cell_type": "code",
   "execution_count": 7,
   "metadata": {
    "pycharm": {
     "name": "#%%\n"
    }
   },
   "outputs": [
    {
     "name": "stdout",
     "output_type": "stream",
     "text": [
      "Average ROC_AUC     0.8178\n",
      "Std ROC_AUC     0.1013\n"
     ]
    }
   ],
   "source": [
    "print('Average ROC_AUC {:10.4f}'.format(mean(cv_result.get('test_score'))))\n",
    "print('Std ROC_AUC {:10.4f}'.format(std(cv_result.get('test_score'))))"
   ]
  },
  {
   "cell_type": "markdown",
   "metadata": {
    "pycharm": {
     "name": "#%% md\n"
    }
   },
   "source": [
    "### Using Boruta for feature selection"
   ]
  },
  {
   "cell_type": "code",
   "execution_count": 8,
   "metadata": {
    "pycharm": {
     "name": "#%%\n"
    }
   },
   "outputs": [
    {
     "data": {
      "text/plain": "BorutaPy(alpha=0.1,\n         estimator=RandomForestClassifier(n_estimators=161,\n                                          random_state=RandomState(MT19937) at 0x26BF49C5D40),\n         n_estimators='auto', perc=80,\n         random_state=RandomState(MT19937) at 0x26BF49C5D40)",
      "text/html": "<style>#sk-container-id-1 {color: black;background-color: white;}#sk-container-id-1 pre{padding: 0;}#sk-container-id-1 div.sk-toggleable {background-color: white;}#sk-container-id-1 label.sk-toggleable__label {cursor: pointer;display: block;width: 100%;margin-bottom: 0;padding: 0.3em;box-sizing: border-box;text-align: center;}#sk-container-id-1 label.sk-toggleable__label-arrow:before {content: \"▸\";float: left;margin-right: 0.25em;color: #696969;}#sk-container-id-1 label.sk-toggleable__label-arrow:hover:before {color: black;}#sk-container-id-1 div.sk-estimator:hover label.sk-toggleable__label-arrow:before {color: black;}#sk-container-id-1 div.sk-toggleable__content {max-height: 0;max-width: 0;overflow: hidden;text-align: left;background-color: #f0f8ff;}#sk-container-id-1 div.sk-toggleable__content pre {margin: 0.2em;color: black;border-radius: 0.25em;background-color: #f0f8ff;}#sk-container-id-1 input.sk-toggleable__control:checked~div.sk-toggleable__content {max-height: 200px;max-width: 100%;overflow: auto;}#sk-container-id-1 input.sk-toggleable__control:checked~label.sk-toggleable__label-arrow:before {content: \"▾\";}#sk-container-id-1 div.sk-estimator input.sk-toggleable__control:checked~label.sk-toggleable__label {background-color: #d4ebff;}#sk-container-id-1 div.sk-label input.sk-toggleable__control:checked~label.sk-toggleable__label {background-color: #d4ebff;}#sk-container-id-1 input.sk-hidden--visually {border: 0;clip: rect(1px 1px 1px 1px);clip: rect(1px, 1px, 1px, 1px);height: 1px;margin: -1px;overflow: hidden;padding: 0;position: absolute;width: 1px;}#sk-container-id-1 div.sk-estimator {font-family: monospace;background-color: #f0f8ff;border: 1px dotted black;border-radius: 0.25em;box-sizing: border-box;margin-bottom: 0.5em;}#sk-container-id-1 div.sk-estimator:hover {background-color: #d4ebff;}#sk-container-id-1 div.sk-parallel-item::after {content: \"\";width: 100%;border-bottom: 1px solid gray;flex-grow: 1;}#sk-container-id-1 div.sk-label:hover label.sk-toggleable__label {background-color: #d4ebff;}#sk-container-id-1 div.sk-serial::before {content: \"\";position: absolute;border-left: 1px solid gray;box-sizing: border-box;top: 0;bottom: 0;left: 50%;z-index: 0;}#sk-container-id-1 div.sk-serial {display: flex;flex-direction: column;align-items: center;background-color: white;padding-right: 0.2em;padding-left: 0.2em;position: relative;}#sk-container-id-1 div.sk-item {position: relative;z-index: 1;}#sk-container-id-1 div.sk-parallel {display: flex;align-items: stretch;justify-content: center;background-color: white;position: relative;}#sk-container-id-1 div.sk-item::before, #sk-container-id-1 div.sk-parallel-item::before {content: \"\";position: absolute;border-left: 1px solid gray;box-sizing: border-box;top: 0;bottom: 0;left: 50%;z-index: -1;}#sk-container-id-1 div.sk-parallel-item {display: flex;flex-direction: column;z-index: 1;position: relative;background-color: white;}#sk-container-id-1 div.sk-parallel-item:first-child::after {align-self: flex-end;width: 50%;}#sk-container-id-1 div.sk-parallel-item:last-child::after {align-self: flex-start;width: 50%;}#sk-container-id-1 div.sk-parallel-item:only-child::after {width: 0;}#sk-container-id-1 div.sk-dashed-wrapped {border: 1px dashed gray;margin: 0 0.4em 0.5em 0.4em;box-sizing: border-box;padding-bottom: 0.4em;background-color: white;}#sk-container-id-1 div.sk-label label {font-family: monospace;font-weight: bold;display: inline-block;line-height: 1.2em;}#sk-container-id-1 div.sk-label-container {text-align: center;}#sk-container-id-1 div.sk-container {/* jupyter's `normalize.less` sets `[hidden] { display: none; }` but bootstrap.min.css set `[hidden] { display: none !important; }` so we also need the `!important` here to be able to override the default hidden behavior on the sphinx rendered scikit-learn.org. See: https://github.com/scikit-learn/scikit-learn/issues/21755 */display: inline-block !important;position: relative;}#sk-container-id-1 div.sk-text-repr-fallback {display: none;}</style><div id=\"sk-container-id-1\" class=\"sk-top-container\"><div class=\"sk-text-repr-fallback\"><pre>BorutaPy(alpha=0.1,\n         estimator=RandomForestClassifier(n_estimators=161,\n                                          random_state=RandomState(MT19937) at 0x26BF49C5D40),\n         n_estimators=&#x27;auto&#x27;, perc=80,\n         random_state=RandomState(MT19937) at 0x26BF49C5D40)</pre><b>In a Jupyter environment, please rerun this cell to show the HTML representation or trust the notebook. <br />On GitHub, the HTML representation is unable to render, please try loading this page with nbviewer.org.</b></div><div class=\"sk-container\" hidden><div class=\"sk-item sk-dashed-wrapped\"><div class=\"sk-label-container\"><div class=\"sk-label sk-toggleable\"><input class=\"sk-toggleable__control sk-hidden--visually\" id=\"sk-estimator-id-1\" type=\"checkbox\" ><label for=\"sk-estimator-id-1\" class=\"sk-toggleable__label sk-toggleable__label-arrow\">BorutaPy</label><div class=\"sk-toggleable__content\"><pre>BorutaPy(alpha=0.1,\n         estimator=RandomForestClassifier(n_estimators=161,\n                                          random_state=RandomState(MT19937) at 0x26BF49C5D40),\n         n_estimators=&#x27;auto&#x27;, perc=80,\n         random_state=RandomState(MT19937) at 0x26BF49C5D40)</pre></div></div></div><div class=\"sk-parallel\"><div class=\"sk-parallel-item\"><div class=\"sk-item\"><div class=\"sk-label-container\"><div class=\"sk-label sk-toggleable\"><input class=\"sk-toggleable__control sk-hidden--visually\" id=\"sk-estimator-id-2\" type=\"checkbox\" ><label for=\"sk-estimator-id-2\" class=\"sk-toggleable__label sk-toggleable__label-arrow\">estimator: RandomForestClassifier</label><div class=\"sk-toggleable__content\"><pre>RandomForestClassifier(n_estimators=161,\n                       random_state=RandomState(MT19937) at 0x26BF49C5D40)</pre></div></div></div><div class=\"sk-serial\"><div class=\"sk-item\"><div class=\"sk-estimator sk-toggleable\"><input class=\"sk-toggleable__control sk-hidden--visually\" id=\"sk-estimator-id-3\" type=\"checkbox\" ><label for=\"sk-estimator-id-3\" class=\"sk-toggleable__label sk-toggleable__label-arrow\">RandomForestClassifier</label><div class=\"sk-toggleable__content\"><pre>RandomForestClassifier(n_estimators=161,\n                       random_state=RandomState(MT19937) at 0x26BF49C5D40)</pre></div></div></div></div></div></div></div></div></div></div>"
     },
     "execution_count": 8,
     "metadata": {},
     "output_type": "execute_result"
    }
   ],
   "source": [
    "rfc = RandomForestClassifier()\n",
    "boruta_selector = BorutaPy(rfc, n_estimators='auto', alpha=0.10, perc=80, random_state=1)\n",
    "boruta_selector.fit(np.array(X_train), np.array(y_train.ravel()))"
   ]
  },
  {
   "cell_type": "code",
   "execution_count": 9,
   "metadata": {
    "pycharm": {
     "name": "#%%\n"
    }
   },
   "outputs": [
    {
     "name": "stdout",
     "output_type": "stream",
     "text": [
      "Selected Features:  [False False False False  True False False  True False False False  True\n",
      " False False False False False False  True False False False False False\n",
      " False False False False False False False  True False False  True False\n",
      " False False False False False False False False False False False False\n",
      " False False False  True False  True False  True  True False False  True\n",
      "  True False  True False False False False False False False  True False\n",
      " False False  True False False False False False False False False False\n",
      " False False False False False False False False False False False False\n",
      " False False False False False False False False False False False False\n",
      "  True  True False False False False False False False False False False\n",
      " False False False False False  True False False False False False False\n",
      " False False False False False  True False False  True False False  True\n",
      " False False  True  True False False False False False False False  True\n",
      "  True False False False  True False  True False False False False False\n",
      " False False False False False False False False False False False False\n",
      " False False False False False False False False False False False False\n",
      "  True False False False False  True False False  True False False False\n",
      " False False False False False False False False False False False False\n",
      "  True False False  True False False False False False False False  True\n",
      " False  True  True  True False False False False False False False False\n",
      " False False  True  True False  True False False False False False False\n",
      " False False  True False False False False False False False False  True\n",
      " False False False False False False False False False False False False\n",
      "  True  True False False False False False False False False False False\n",
      " False False  True  True False False False False False False False False\n",
      " False False  True  True False False False False False False False False\n",
      " False False False False False False False False False False False False\n",
      "  True  True False False False False False False False False False False\n",
      " False False False  True False  True False False False False False False\n",
      "  True  True False False False False False False  True  True False False\n",
      "  True  True  True False False False False False False False False False\n",
      "  True False False False False False False False False False False False\n",
      " False  True False False False False  True  True  True  True  True False\n",
      " False False False  True False  True False  True False False False False\n",
      " False False False False False False  True False False False False False\n",
      " False False False False False False False False False False False False\n",
      " False False False False False False False False False False False False\n",
      " False False False False False False False False False False False False\n",
      " False False  True  True False  True False False  True False False False\n",
      " False False False False False False False False  True False False False\n",
      " False False False False False False False False False  True False False\n",
      " False  True False False False  True False False  True False False  True\n",
      " False False  True False False False False False False False False False\n",
      " False False False False False False False  True False False False False\n",
      " False False False False  True False False False False  True False False\n",
      " False False False False False False False False False False False False\n",
      " False False False False]\n"
     ]
    }
   ],
   "source": [
    "print(\"Selected Features: \", boruta_selector.support_)  # check selected features"
   ]
  },
  {
   "cell_type": "code",
   "execution_count": 10,
   "metadata": {
    "pycharm": {
     "name": "#%%\n"
    }
   },
   "outputs": [
    {
     "name": "stdout",
     "output_type": "stream",
     "text": [
      "No. of significant features:  83\n",
      "Ranking:  [359 154 457 129   1 437 125   1 399 427 269   1 101 156 314   2 152 384\n",
      "   1  94 265 247 140  52  50 234 282 294 274  36 462   1 258  96   1 220\n",
      "  56 327 390 413 218 260 355 311 168 146 285  74 256 197 151   1  18   1\n",
      " 206   1   1 369 232   1   1  12   1 140 415 462 400  46 158 241   1 357\n",
      " 457 156   1 287 346 186  44 178 178 349  85 422  36 432 259 301  62 361\n",
      " 320  39 306 166 153  98  98 387  90 365 237 265 305  28 373 189 226 214\n",
      "   1   1 193 411 323  22 397  78  39 452 252  90 254 281 235 157 314   1\n",
      " 101 101 457  98 117 389 345 127 318 337 447   1 193 434   1   2 195   1\n",
      "  12 331   1   1 214 200  60 408 447 422 406   1   1 171 462 241   1  87\n",
      "   1 418   8 161  80 127 160 159 203 182  68 252 375  47 241 137  54 344\n",
      " 288  76 447  31 107 125 193 316 262 452 457 184   1 209   2 320  82   1\n",
      " 162 241   1 292 205 426  53  92   5 129 129 107 419  12 283 108 205  69\n",
      "   1   8 234   1  64 360 405 341 347  82 357   1   2   1   1   1 355 120\n",
      " 388   8 368 169 190 335  25  55   1   1 185   1 298 407 142 318 187 307\n",
      "  84  67   1 364  12 268 401 211 109 403 343   1 310 114   2 226  73 447\n",
      " 270  44 178 339 396 381   1   1 366 201 327 136 221 122 226 284 352 222\n",
      " 340  22   1   1  36  22 416 208 425 131 208 367 142 210   1   1 277   2\n",
      " 330   3 148  59 248 203 136  65 273 175 255 223   2 336 381 287   2  71\n",
      "   1   1  58 245 371  88  25  57 105 110 457 441   8 404 377   1 252   1\n",
      "  12 385 271 424 241  39   1   1 214 138  25 414 298 145   1   1 105 293\n",
      "   1   1   1 353 327 173 302 440 217  51 424 265   1 312  77 379  28 119\n",
      " 214 352 428 119 430  86 149   1  36 431 197  75   1   1   1   1   1 310\n",
      " 342 249 166   1 182   1  62   1  66 103 168 193  18 263 150 200 374 115\n",
      "   1 163   3 143 399 236 391  33 363 289 298 359 273 290 394 339 465  73\n",
      " 112  18  92 372 296 402 292 410 322 174  42 164 279 300 447 420 122  48\n",
      " 111 241 442 276 327 433 436 232   1   1 457   1 383 452   1 178 230 229\n",
      "   2 378 268 304 435  18  83 132   1 395 303  70 257 214 417 333 362 412\n",
      " 370 262 334   1  46 409 224   1  49 438  28   1 308  18   1 377 332   1\n",
      "  96 117   1 393 133 183 349 278   5 220 228  31 457 439 198  80 350 247\n",
      " 324   1 123 189  92 114 382 393  31 322   1 134 170 173 314   1 144 147\n",
      " 329 275  62 447 447 447  18 296 180 280  42 430 241 465 387 252]\n"
     ]
    }
   ],
   "source": [
    "print(\"No. of significant features: \", boruta_selector.n_features_)\n",
    "\n",
    "print(\"Ranking: \", boruta_selector.ranking_)  # check ranking of features"
   ]
  },
  {
   "cell_type": "code",
   "execution_count": 11,
   "metadata": {
    "pycharm": {
     "name": "#%%\n"
    }
   },
   "outputs": [
    {
     "data": {
      "text/plain": "     Feature  Ranking\n277    CEP55        1\n216      DEK        1\n200    RDH10        1\n197     MYOT        1\n192    LTBP2        1\n..       ...      ...\n158   AMOTL2      462\n65   SLC15A1      462\n30      ASPM      462\n430     BMP1      465\n553    KDM4E      465\n\n[556 rows x 2 columns]",
      "text/html": "<div>\n<style scoped>\n    .dataframe tbody tr th:only-of-type {\n        vertical-align: middle;\n    }\n\n    .dataframe tbody tr th {\n        vertical-align: top;\n    }\n\n    .dataframe thead th {\n        text-align: right;\n    }\n</style>\n<table border=\"1\" class=\"dataframe\">\n  <thead>\n    <tr style=\"text-align: right;\">\n      <th></th>\n      <th>Feature</th>\n      <th>Ranking</th>\n    </tr>\n  </thead>\n  <tbody>\n    <tr>\n      <th>277</th>\n      <td>CEP55</td>\n      <td>1</td>\n    </tr>\n    <tr>\n      <th>216</th>\n      <td>DEK</td>\n      <td>1</td>\n    </tr>\n    <tr>\n      <th>200</th>\n      <td>RDH10</td>\n      <td>1</td>\n    </tr>\n    <tr>\n      <th>197</th>\n      <td>MYOT</td>\n      <td>1</td>\n    </tr>\n    <tr>\n      <th>192</th>\n      <td>LTBP2</td>\n      <td>1</td>\n    </tr>\n    <tr>\n      <th>...</th>\n      <td>...</td>\n      <td>...</td>\n    </tr>\n    <tr>\n      <th>158</th>\n      <td>AMOTL2</td>\n      <td>462</td>\n    </tr>\n    <tr>\n      <th>65</th>\n      <td>SLC15A1</td>\n      <td>462</td>\n    </tr>\n    <tr>\n      <th>30</th>\n      <td>ASPM</td>\n      <td>462</td>\n    </tr>\n    <tr>\n      <th>430</th>\n      <td>BMP1</td>\n      <td>465</td>\n    </tr>\n    <tr>\n      <th>553</th>\n      <td>KDM4E</td>\n      <td>465</td>\n    </tr>\n  </tbody>\n</table>\n<p>556 rows × 2 columns</p>\n</div>"
     },
     "execution_count": 11,
     "metadata": {},
     "output_type": "execute_result"
    }
   ],
   "source": [
    "selected_rf_features = pd.DataFrame({'Feature': list(X_train.columns),\n",
    "                                     'Ranking': boruta_selector.ranking_})\n",
    "selected_rf_features.sort_values(by='Ranking')"
   ]
  },
  {
   "cell_type": "markdown",
   "metadata": {
    "pycharm": {
     "name": "#%% md\n"
    }
   },
   "source": [
    "Then we get the important features based on Boruta feature selection. Here's the list of important features:"
   ]
  },
  {
   "cell_type": "code",
   "execution_count": 12,
   "metadata": {
    "pycharm": {
     "name": "#%%\n"
    }
   },
   "outputs": [
    {
     "data": {
      "text/plain": "['MGST1',\n 'DCN',\n 'ATP1A2',\n 'RAD51',\n 'EML1',\n 'RORA',\n 'OSBPL6',\n 'KIF22',\n 'RAB21',\n 'RBL1',\n 'SERTAD4',\n 'RRAGB',\n 'NOX4',\n 'CCDC80',\n 'PTGS1',\n 'MCM4',\n 'PPP1R13L',\n 'TRIM37',\n 'MGP',\n 'PHC1',\n 'MAN1A1',\n 'CAP2',\n 'BVES',\n 'LMNB1',\n 'ARRDC3',\n 'HYAL1',\n 'STEAP3',\n 'LTBP2',\n 'MYOT',\n 'RDH10',\n 'DEK',\n 'MCM8',\n 'IRF5',\n 'CGNL1',\n 'DUT',\n 'MBD4',\n 'REEP2',\n 'PCNA',\n 'CCNA1',\n 'NT5E',\n 'SMC2',\n 'KIF11',\n 'CEP55',\n 'POC1B',\n 'FITM1',\n 'ATP1B1',\n 'DPT',\n 'ZMYM3',\n 'PRPS1',\n 'CNKSR2',\n 'FOXO1',\n 'SUV39H2',\n 'SPARCL1',\n 'DDAH1',\n 'ANKH',\n 'TTC39B',\n 'DCK',\n 'FGF18',\n 'IFNGR2',\n 'SNX7',\n 'PDLIM5',\n 'FSTL1',\n 'IGFBP7',\n 'FBLN2',\n 'RBM47',\n 'EMCN',\n 'MAD2L1',\n 'KCNK5',\n 'HTRA1',\n 'HSPB7',\n 'NET1',\n 'MSRB3',\n 'CMKLR1',\n 'TBL1XR1',\n 'DCTPP1',\n 'PENK',\n 'SKA2',\n 'GAS6',\n 'ADAP2',\n 'CSF1',\n 'DCUN1D3',\n 'MFAP5',\n 'HMGN2']"
     },
     "execution_count": 12,
     "metadata": {},
     "output_type": "execute_result"
    }
   ],
   "source": [
    "important_features_list = selected_rf_features[selected_rf_features['Ranking'] == 1]['Feature'].to_list()\n",
    "important_features = feature[[gene for gene in feature.columns if gene in important_features_list]]\n",
    "important_features_list"
   ]
  },
  {
   "cell_type": "markdown",
   "metadata": {
    "pycharm": {
     "name": "#%% md\n"
    }
   },
   "source": [
    "Finally, we use the same CV method as above to test model performance."
   ]
  },
  {
   "cell_type": "code",
   "execution_count": 13,
   "metadata": {
    "pycharm": {
     "name": "#%%\n"
    }
   },
   "outputs": [],
   "source": [
    "cv_result_refine = cross_validate(rf_all_features, important_features, label.flatten(),\n",
    "                                  cv=cv_splitter,\n",
    "                                  scoring=make_scorer(roc_auc_score, greater_is_better=True, needs_threshold=True),\n",
    "                                  n_jobs=-1)"
   ]
  },
  {
   "cell_type": "code",
   "execution_count": 14,
   "metadata": {
    "pycharm": {
     "name": "#%%\n"
    }
   },
   "outputs": [
    {
     "name": "stdout",
     "output_type": "stream",
     "text": [
      "Average ROC_AUC     0.8434\n",
      "Std ROC_AUC     0.0990\n"
     ]
    }
   ],
   "source": [
    "print('Average ROC_AUC {:10.4f}'.format(mean(cv_result_refine.get('test_score'))))\n",
    "print('Std ROC_AUC {:10.4f}'.format(std(cv_result_refine.get('test_score'))))"
   ]
  },
  {
   "cell_type": "markdown",
   "metadata": {
    "pycharm": {
     "name": "#%% md\n"
    }
   },
   "source": [
    "### Tune Boruta\n",
    "\n",
    "Based on previous experiments, we can see selecting important features does increase a performance of the classifier. But how many features can achieve the best performance?\n",
    "\n",
    "In Boruta, ```perc``` a parameter that control how stringent the algorithm picks the relevant features. It's a user defined percentile that is used to pick the threshold for comparison between shadow and real features. The lower perc is the more false positives will be picked as relevant but also the less relevant features will be left out.\n",
    "\n",
    "In the following section, we do a search for the optimal value of ```perc```."
   ]
  },
  {
   "cell_type": "code",
   "execution_count": 15,
   "metadata": {
    "pycharm": {
     "name": "#%%\n"
    }
   },
   "outputs": [],
   "source": [
    "# Define a function to tune boruta\n",
    "def tune_boruta(perc_list, test_model):\n",
    "    \"\"\"\n",
    "    Compare the performance (ROC_AUC) of different perc values\n",
    "    :param perc_list: a list of perc values to compare\n",
    "    :param test_model: the model to test on for the ROC_AUC score\n",
    "    :return: score_df: a dataframe containing the performance of different perc values\n",
    "    \"\"\"\n",
    "    scores = {'perc': [], 'Number_features': [], 'Average': [], 'Std': []}\n",
    "    for perc in perc_list:\n",
    "        print('Perc value: %s' % perc)\n",
    "        scores.get('perc').append(perc)\n",
    "        # Using Boruta for feature selction\n",
    "        rfc = RandomForestClassifier()\n",
    "        boruta_selector = BorutaPy(rfc, n_estimators='auto', alpha=0.10, perc=perc, random_state=1)\n",
    "        boruta_selector.fit(np.array(X_train), np.array(y_train.ravel()))\n",
    "        selected_rf_features = pd.DataFrame({'Feature': list(X_train.columns),\n",
    "                                             'Ranking': boruta_selector.ranking_})\n",
    "        important_features_list = selected_rf_features[selected_rf_features['Ranking'] == 1]['Feature'].to_list()\n",
    "        important_features = feature[[gene for gene in feature.columns if gene in important_features_list]]\n",
    "        num_features = len(important_features_list)\n",
    "        scores.get('Number_features').append(num_features)\n",
    "        print('Number of important features selected by Boruta: %s' % num_features)\n",
    "\n",
    "        # Cross Validation using important features\n",
    "        print('Cross validating using features selected...')\n",
    "        cv_splitter = RepeatedStratifiedKFold(n_splits=5, n_repeats=10, random_state=42)\n",
    "        cv_result = cross_validate(test_model, important_features, label.flatten(),\n",
    "                                   cv=cv_splitter,\n",
    "                                   scoring=make_scorer(roc_auc_score, greater_is_better=True, needs_threshold=True),\n",
    "                                   n_jobs=-1)\n",
    "        print('Cross validation finished!\\n')\n",
    "        scores.get('Average').append(mean(cv_result.get('test_score')))\n",
    "        scores.get('Std').append(std(cv_result.get('test_score')))\n",
    "\n",
    "    score_df = pd.DataFrame.from_dict(scores)\n",
    "    score_df.set_index('Number_features', inplace=True)\n",
    "    return score_df"
   ]
  },
  {
   "cell_type": "markdown",
   "metadata": {
    "pycharm": {
     "name": "#%% md\n"
    }
   },
   "source": [
    "- First step: coarse tuning with range 30-100, and 10 as interval"
   ]
  },
  {
   "cell_type": "code",
   "execution_count": 16,
   "metadata": {
    "pycharm": {
     "name": "#%%\n"
    }
   },
   "outputs": [
    {
     "name": "stdout",
     "output_type": "stream",
     "text": [
      "Perc value: 30\n",
      "Number of important features selected by Boruta: 299\n",
      "Cross validating using features selected...\n",
      "Cross validation finished!\n",
      "\n",
      "Perc value: 40\n",
      "Number of important features selected by Boruta: 233\n",
      "Cross validating using features selected...\n",
      "Cross validation finished!\n",
      "\n",
      "Perc value: 50\n",
      "Number of important features selected by Boruta: 187\n",
      "Cross validating using features selected...\n",
      "Cross validation finished!\n",
      "\n",
      "Perc value: 60\n",
      "Number of important features selected by Boruta: 151\n",
      "Cross validating using features selected...\n",
      "Cross validation finished!\n",
      "\n",
      "Perc value: 70\n",
      "Number of important features selected by Boruta: 107\n",
      "Cross validating using features selected...\n",
      "Cross validation finished!\n",
      "\n",
      "Perc value: 80\n",
      "Number of important features selected by Boruta: 83\n",
      "Cross validating using features selected...\n",
      "Cross validation finished!\n",
      "\n",
      "Perc value: 90\n",
      "Number of important features selected by Boruta: 50\n",
      "Cross validating using features selected...\n",
      "Cross validation finished!\n",
      "\n",
      "Perc value: 100\n",
      "Number of important features selected by Boruta: 11\n",
      "Cross validating using features selected...\n",
      "Cross validation finished!\n",
      "\n"
     ]
    },
    {
     "data": {
      "text/plain": "                 perc   Average       Std\nNumber_features                          \n299                30  0.820673  0.100953\n233                40  0.826533  0.102552\n187                50  0.831552  0.098635\n151                60  0.834048  0.097601\n107                70  0.840177  0.094391\n83                 80  0.840095  0.095706\n50                 90  0.853997  0.092012\n11                100  0.852953  0.080957",
      "text/html": "<div>\n<style scoped>\n    .dataframe tbody tr th:only-of-type {\n        vertical-align: middle;\n    }\n\n    .dataframe tbody tr th {\n        vertical-align: top;\n    }\n\n    .dataframe thead th {\n        text-align: right;\n    }\n</style>\n<table border=\"1\" class=\"dataframe\">\n  <thead>\n    <tr style=\"text-align: right;\">\n      <th></th>\n      <th>perc</th>\n      <th>Average</th>\n      <th>Std</th>\n    </tr>\n    <tr>\n      <th>Number_features</th>\n      <th></th>\n      <th></th>\n      <th></th>\n    </tr>\n  </thead>\n  <tbody>\n    <tr>\n      <th>299</th>\n      <td>30</td>\n      <td>0.820673</td>\n      <td>0.100953</td>\n    </tr>\n    <tr>\n      <th>233</th>\n      <td>40</td>\n      <td>0.826533</td>\n      <td>0.102552</td>\n    </tr>\n    <tr>\n      <th>187</th>\n      <td>50</td>\n      <td>0.831552</td>\n      <td>0.098635</td>\n    </tr>\n    <tr>\n      <th>151</th>\n      <td>60</td>\n      <td>0.834048</td>\n      <td>0.097601</td>\n    </tr>\n    <tr>\n      <th>107</th>\n      <td>70</td>\n      <td>0.840177</td>\n      <td>0.094391</td>\n    </tr>\n    <tr>\n      <th>83</th>\n      <td>80</td>\n      <td>0.840095</td>\n      <td>0.095706</td>\n    </tr>\n    <tr>\n      <th>50</th>\n      <td>90</td>\n      <td>0.853997</td>\n      <td>0.092012</td>\n    </tr>\n    <tr>\n      <th>11</th>\n      <td>100</td>\n      <td>0.852953</td>\n      <td>0.080957</td>\n    </tr>\n  </tbody>\n</table>\n</div>"
     },
     "execution_count": 16,
     "metadata": {},
     "output_type": "execute_result"
    }
   ],
   "source": [
    "perc_list = [n for n in range(30, 101, 10)]\n",
    "\n",
    "score_df_coarse = tune_boruta(perc_list, RandomForestClassifier())\n",
    "score_df_coarse"
   ]
  },
  {
   "cell_type": "markdown",
   "metadata": {
    "pycharm": {
     "name": "#%% md\n"
    }
   },
   "source": [
    "- Fine-tuning: testing from perc=90-100 since it's the range with the best performance."
   ]
  },
  {
   "cell_type": "code",
   "execution_count": 17,
   "metadata": {
    "pycharm": {
     "name": "#%%\n"
    }
   },
   "outputs": [
    {
     "name": "stdout",
     "output_type": "stream",
     "text": [
      "Perc value: 92\n",
      "Number of important features selected by Boruta: 39\n",
      "Cross validating using features selected...\n",
      "Cross validation finished!\n",
      "\n",
      "Perc value: 94\n",
      "Number of important features selected by Boruta: 33\n",
      "Cross validating using features selected...\n",
      "Cross validation finished!\n",
      "\n",
      "Perc value: 96\n",
      "Number of important features selected by Boruta: 29\n",
      "Cross validating using features selected...\n",
      "Cross validation finished!\n",
      "\n",
      "Perc value: 98\n",
      "Number of important features selected by Boruta: 21\n",
      "Cross validating using features selected...\n",
      "Cross validation finished!\n",
      "\n"
     ]
    },
    {
     "data": {
      "text/plain": "                 perc   Average       Std\nNumber_features                          \n39                 92  0.851827  0.097718\n33                 94  0.863335  0.084328\n29                 96  0.860745  0.084079\n21                 98  0.856876  0.081918",
      "text/html": "<div>\n<style scoped>\n    .dataframe tbody tr th:only-of-type {\n        vertical-align: middle;\n    }\n\n    .dataframe tbody tr th {\n        vertical-align: top;\n    }\n\n    .dataframe thead th {\n        text-align: right;\n    }\n</style>\n<table border=\"1\" class=\"dataframe\">\n  <thead>\n    <tr style=\"text-align: right;\">\n      <th></th>\n      <th>perc</th>\n      <th>Average</th>\n      <th>Std</th>\n    </tr>\n    <tr>\n      <th>Number_features</th>\n      <th></th>\n      <th></th>\n      <th></th>\n    </tr>\n  </thead>\n  <tbody>\n    <tr>\n      <th>39</th>\n      <td>92</td>\n      <td>0.851827</td>\n      <td>0.097718</td>\n    </tr>\n    <tr>\n      <th>33</th>\n      <td>94</td>\n      <td>0.863335</td>\n      <td>0.084328</td>\n    </tr>\n    <tr>\n      <th>29</th>\n      <td>96</td>\n      <td>0.860745</td>\n      <td>0.084079</td>\n    </tr>\n    <tr>\n      <th>21</th>\n      <td>98</td>\n      <td>0.856876</td>\n      <td>0.081918</td>\n    </tr>\n  </tbody>\n</table>\n</div>"
     },
     "execution_count": 17,
     "metadata": {},
     "output_type": "execute_result"
    }
   ],
   "source": [
    "perc_list = [n for n in range(90, 101, 2) if n % 10 != 0]  # remove multiple of 10 since already tested\n",
    "score_df_fine = tune_boruta(perc_list, RandomForestClassifier())\n",
    "score_df_fine"
   ]
  },
  {
   "cell_type": "code",
   "execution_count": 18,
   "metadata": {
    "pycharm": {
     "name": "#%%\n"
    }
   },
   "outputs": [
    {
     "data": {
      "text/plain": "                 perc   Average       Std\nNumber_features                          \n33                 94  0.863335  0.084328\n29                 96  0.860745  0.084079\n21                 98  0.856876  0.081918\n50                 90  0.853997  0.092012\n11                100  0.852953  0.080957\n39                 92  0.851827  0.097718\n107                70  0.840177  0.094391\n83                 80  0.840095  0.095706\n151                60  0.834048  0.097601\n187                50  0.831552  0.098635\n233                40  0.826533  0.102552\n299                30  0.820673  0.100953",
      "text/html": "<div>\n<style scoped>\n    .dataframe tbody tr th:only-of-type {\n        vertical-align: middle;\n    }\n\n    .dataframe tbody tr th {\n        vertical-align: top;\n    }\n\n    .dataframe thead th {\n        text-align: right;\n    }\n</style>\n<table border=\"1\" class=\"dataframe\">\n  <thead>\n    <tr style=\"text-align: right;\">\n      <th></th>\n      <th>perc</th>\n      <th>Average</th>\n      <th>Std</th>\n    </tr>\n    <tr>\n      <th>Number_features</th>\n      <th></th>\n      <th></th>\n      <th></th>\n    </tr>\n  </thead>\n  <tbody>\n    <tr>\n      <th>33</th>\n      <td>94</td>\n      <td>0.863335</td>\n      <td>0.084328</td>\n    </tr>\n    <tr>\n      <th>29</th>\n      <td>96</td>\n      <td>0.860745</td>\n      <td>0.084079</td>\n    </tr>\n    <tr>\n      <th>21</th>\n      <td>98</td>\n      <td>0.856876</td>\n      <td>0.081918</td>\n    </tr>\n    <tr>\n      <th>50</th>\n      <td>90</td>\n      <td>0.853997</td>\n      <td>0.092012</td>\n    </tr>\n    <tr>\n      <th>11</th>\n      <td>100</td>\n      <td>0.852953</td>\n      <td>0.080957</td>\n    </tr>\n    <tr>\n      <th>39</th>\n      <td>92</td>\n      <td>0.851827</td>\n      <td>0.097718</td>\n    </tr>\n    <tr>\n      <th>107</th>\n      <td>70</td>\n      <td>0.840177</td>\n      <td>0.094391</td>\n    </tr>\n    <tr>\n      <th>83</th>\n      <td>80</td>\n      <td>0.840095</td>\n      <td>0.095706</td>\n    </tr>\n    <tr>\n      <th>151</th>\n      <td>60</td>\n      <td>0.834048</td>\n      <td>0.097601</td>\n    </tr>\n    <tr>\n      <th>187</th>\n      <td>50</td>\n      <td>0.831552</td>\n      <td>0.098635</td>\n    </tr>\n    <tr>\n      <th>233</th>\n      <td>40</td>\n      <td>0.826533</td>\n      <td>0.102552</td>\n    </tr>\n    <tr>\n      <th>299</th>\n      <td>30</td>\n      <td>0.820673</td>\n      <td>0.100953</td>\n    </tr>\n  </tbody>\n</table>\n</div>"
     },
     "execution_count": 18,
     "metadata": {},
     "output_type": "execute_result"
    }
   ],
   "source": [
    "score_df = pd.concat([score_df_fine, score_df_coarse])\n",
    "score_df = score_df.sort_values(by='Average', ascending=False)\n",
    "score_df"
   ]
  },
  {
   "cell_type": "markdown",
   "metadata": {
    "pycharm": {
     "name": "#%% md\n"
    }
   },
   "source": [
    "- Plotting"
   ]
  },
  {
   "cell_type": "code",
   "execution_count": 19,
   "metadata": {
    "pycharm": {
     "name": "#%%\n"
    }
   },
   "outputs": [],
   "source": [
    "def plotting(score_df, plt):\n",
    "    score_df = score_df.sort_values(by='Number_features', ascending=False)\n",
    "    plt.scatter(x=score_df.index, y=score_df['Average'], linestyle='-', marker='o')\n",
    "    plt.xlabel('Number_features')\n",
    "    plt.ylabel('ROC-AUC score')\n",
    "    plt.title('Number of selected features v.s. Performance')\n",
    "    plt.errorbar(score_df.index, score_df['Average'], yerr=score_df['Std'])\n",
    "    plt.show()"
   ]
  },
  {
   "cell_type": "code",
   "execution_count": 20,
   "metadata": {
    "pycharm": {
     "name": "#%%\n"
    }
   },
   "outputs": [
    {
     "data": {
      "text/plain": "<Figure size 432x288 with 1 Axes>",
      "image/png": "[encoded data removed]"
     },
     "metadata": {
      "needs_background": "light"
     },
     "output_type": "display_data"
    }
   ],
   "source": [
    "import matplotlib.pyplot as plt\n",
    "\n",
    "plotting(score_df, plt)"
   ]
  },
  {
   "cell_type": "code",
   "execution_count": 21,
   "metadata": {
    "pycharm": {
     "name": "#%%\n"
    }
   },
   "outputs": [
    {
     "name": "stdout",
     "output_type": "stream",
     "text": [
      "The best performing parameter (perc) is:\n"
     ]
    },
    {
     "data": {
      "text/plain": "                 perc   Average       Std\nNumber_features                          \n33                 94  0.863335  0.084328",
      "text/html": "<div>\n<style scoped>\n    .dataframe tbody tr th:only-of-type {\n        vertical-align: middle;\n    }\n\n    .dataframe tbody tr th {\n        vertical-align: top;\n    }\n\n    .dataframe thead th {\n        text-align: right;\n    }\n</style>\n<table border=\"1\" class=\"dataframe\">\n  <thead>\n    <tr style=\"text-align: right;\">\n      <th></th>\n      <th>perc</th>\n      <th>Average</th>\n      <th>Std</th>\n    </tr>\n    <tr>\n      <th>Number_features</th>\n      <th></th>\n      <th></th>\n      <th></th>\n    </tr>\n  </thead>\n  <tbody>\n    <tr>\n      <th>33</th>\n      <td>94</td>\n      <td>0.863335</td>\n      <td>0.084328</td>\n    </tr>\n  </tbody>\n</table>\n</div>"
     },
     "execution_count": 21,
     "metadata": {},
     "output_type": "execute_result"
    }
   ],
   "source": [
    "print('The best performing parameter (perc) is:')\n",
    "score_df.loc[score_df['Average'] == score_df.Average.max()]"
   ]
  },
  {
   "cell_type": "markdown",
   "metadata": {
    "pycharm": {
     "name": "#%% md\n"
    }
   },
   "source": [
    "##### Test on Another Model: Native Bayes\n",
    "\n",
    "Native Bayes (Gaussian) is another model that shows good performance for the binary classification task. We also test how many features are optimal for the Native Bayes model."
   ]
  },
  {
   "cell_type": "code",
   "execution_count": 22,
   "metadata": {
    "pycharm": {
     "name": "#%%\n"
    }
   },
   "outputs": [
    {
     "data": {
      "text/plain": "[94, 96, 98, 90]"
     },
     "execution_count": 22,
     "metadata": {},
     "output_type": "execute_result"
    }
   ],
   "source": [
    "score_df = score_df.sort_values(by='Average', ascending=False)\n",
    "# Take first 10 perc value that yield best result in RF\n",
    "perc_list = score_df.perc[0:4].to_list()\n",
    "perc_list"
   ]
  },
  {
   "cell_type": "code",
   "execution_count": 23,
   "metadata": {
    "pycharm": {
     "name": "#%%\n"
    }
   },
   "outputs": [
    {
     "name": "stdout",
     "output_type": "stream",
     "text": [
      "Perc value: 94\n",
      "Number of important features selected by Boruta: 33\n",
      "Cross validating using features selected...\n",
      "Cross validation finished!\n",
      "\n",
      "Perc value: 96\n",
      "Number of important features selected by Boruta: 29\n",
      "Cross validating using features selected...\n",
      "Cross validation finished!\n",
      "\n",
      "Perc value: 98\n",
      "Number of important features selected by Boruta: 21\n",
      "Cross validating using features selected...\n",
      "Cross validation finished!\n",
      "\n",
      "Perc value: 90\n",
      "Number of important features selected by Boruta: 50\n",
      "Cross validating using features selected...\n",
      "Cross validation finished!\n",
      "\n"
     ]
    },
    {
     "data": {
      "text/plain": "                 perc   Average       Std\nNumber_features                          \n33                 94  0.720694  0.076577\n29                 96  0.736494  0.080693\n21                 98  0.738478  0.077536\n50                 90  0.728526  0.077347",
      "text/html": "<div>\n<style scoped>\n    .dataframe tbody tr th:only-of-type {\n        vertical-align: middle;\n    }\n\n    .dataframe tbody tr th {\n        vertical-align: top;\n    }\n\n    .dataframe thead th {\n        text-align: right;\n    }\n</style>\n<table border=\"1\" class=\"dataframe\">\n  <thead>\n    <tr style=\"text-align: right;\">\n      <th></th>\n      <th>perc</th>\n      <th>Average</th>\n      <th>Std</th>\n    </tr>\n    <tr>\n      <th>Number_features</th>\n      <th></th>\n      <th></th>\n      <th></th>\n    </tr>\n  </thead>\n  <tbody>\n    <tr>\n      <th>33</th>\n      <td>94</td>\n      <td>0.720694</td>\n      <td>0.076577</td>\n    </tr>\n    <tr>\n      <th>29</th>\n      <td>96</td>\n      <td>0.736494</td>\n      <td>0.080693</td>\n    </tr>\n    <tr>\n      <th>21</th>\n      <td>98</td>\n      <td>0.738478</td>\n      <td>0.077536</td>\n    </tr>\n    <tr>\n      <th>50</th>\n      <td>90</td>\n      <td>0.728526</td>\n      <td>0.077347</td>\n    </tr>\n  </tbody>\n</table>\n</div>"
     },
     "execution_count": 23,
     "metadata": {},
     "output_type": "execute_result"
    }
   ],
   "source": [
    "from sklearn.naive_bayes import GaussianNB\n",
    "nb_score_df = tune_boruta(perc_list, GaussianNB())\n",
    "nb_score_df"
   ]
  },
  {
   "cell_type": "code",
   "execution_count": 24,
   "outputs": [
    {
     "name": "stdout",
     "output_type": "stream",
     "text": [
      "Perc value: 94\n",
      "Number of important features selected by Boruta: 33\n",
      "Cross validating using features selected...\n",
      "Cross validation finished!\n",
      "\n",
      "Perc value: 96\n",
      "Number of important features selected by Boruta: 29\n",
      "Cross validating using features selected...\n",
      "Cross validation finished!\n",
      "\n",
      "Perc value: 98\n",
      "Number of important features selected by Boruta: 21\n",
      "Cross validating using features selected...\n",
      "Cross validation finished!\n",
      "\n",
      "Perc value: 90\n",
      "Number of important features selected by Boruta: 50\n",
      "Cross validating using features selected...\n",
      "Cross validation finished!\n",
      "\n"
     ]
    },
    {
     "data": {
      "text/plain": "                 perc   Average       Std\nNumber_features                          \n33                 94  0.745242  0.093943\n29                 96  0.754534  0.096608\n21                 98  0.753571  0.094417\n50                 90  0.737050  0.092312",
      "text/html": "<div>\n<style scoped>\n    .dataframe tbody tr th:only-of-type {\n        vertical-align: middle;\n    }\n\n    .dataframe tbody tr th {\n        vertical-align: top;\n    }\n\n    .dataframe thead th {\n        text-align: right;\n    }\n</style>\n<table border=\"1\" class=\"dataframe\">\n  <thead>\n    <tr style=\"text-align: right;\">\n      <th></th>\n      <th>perc</th>\n      <th>Average</th>\n      <th>Std</th>\n    </tr>\n    <tr>\n      <th>Number_features</th>\n      <th></th>\n      <th></th>\n      <th></th>\n    </tr>\n  </thead>\n  <tbody>\n    <tr>\n      <th>33</th>\n      <td>94</td>\n      <td>0.745242</td>\n      <td>0.093943</td>\n    </tr>\n    <tr>\n      <th>29</th>\n      <td>96</td>\n      <td>0.754534</td>\n      <td>0.096608</td>\n    </tr>\n    <tr>\n      <th>21</th>\n      <td>98</td>\n      <td>0.753571</td>\n      <td>0.094417</td>\n    </tr>\n    <tr>\n      <th>50</th>\n      <td>90</td>\n      <td>0.737050</td>\n      <td>0.092312</td>\n    </tr>\n  </tbody>\n</table>\n</div>"
     },
     "execution_count": 24,
     "metadata": {},
     "output_type": "execute_result"
    }
   ],
   "source": [
    "from sklearn.linear_model import LogisticRegression\n",
    "nb_score_df = tune_boruta(perc_list, LogisticRegression())\n",
    "nb_score_df"
   ],
   "metadata": {
    "collapsed": false,
    "pycharm": {
     "name": "#%%\n"
    }
   }
  },
  {
   "cell_type": "code",
   "execution_count": 36,
   "outputs": [
    {
     "name": "stdout",
     "output_type": "stream",
     "text": [
      "Perc value: 100\n",
      "Number of important features selected by Boruta: 8\n",
      "Cross validating using features selected...\n",
      "Cross validation finished!\n",
      "\n",
      "Perc value: 98\n",
      "Number of important features selected by Boruta: 11\n",
      "Cross validating using features selected...\n",
      "Cross validation finished!\n",
      "\n",
      "Perc value: 96\n",
      "Number of important features selected by Boruta: 17\n",
      "Cross validating using features selected...\n",
      "Cross validation finished!\n",
      "\n"
     ]
    },
    {
     "data": {
      "text/plain": "                 perc   Average       Std\nNumber_features                          \n8                 100  0.819380  0.144388\n11                 98  0.822949  0.138110\n17                 96  0.775801  0.152118",
      "text/html": "<div>\n<style scoped>\n    .dataframe tbody tr th:only-of-type {\n        vertical-align: middle;\n    }\n\n    .dataframe tbody tr th {\n        vertical-align: top;\n    }\n\n    .dataframe thead th {\n        text-align: right;\n    }\n</style>\n<table border=\"1\" class=\"dataframe\">\n  <thead>\n    <tr style=\"text-align: right;\">\n      <th></th>\n      <th>perc</th>\n      <th>Average</th>\n      <th>Std</th>\n    </tr>\n    <tr>\n      <th>Number_features</th>\n      <th></th>\n      <th></th>\n      <th></th>\n    </tr>\n  </thead>\n  <tbody>\n    <tr>\n      <th>8</th>\n      <td>100</td>\n      <td>0.819380</td>\n      <td>0.144388</td>\n    </tr>\n    <tr>\n      <th>11</th>\n      <td>98</td>\n      <td>0.822949</td>\n      <td>0.138110</td>\n    </tr>\n    <tr>\n      <th>17</th>\n      <td>96</td>\n      <td>0.775801</td>\n      <td>0.152118</td>\n    </tr>\n  </tbody>\n</table>\n</div>"
     },
     "execution_count": 36,
     "metadata": {},
     "output_type": "execute_result"
    }
   ],
   "source": [
    "from sklearn.neural_network import MLPClassifier\n",
    "nb_score_df = tune_boruta(perc_list, MLPClassifier())\n",
    "nb_score_df"
   ],
   "metadata": {
    "collapsed": false,
    "pycharm": {
     "name": "#%%\n"
    }
   }
  },
  {
   "cell_type": "code",
   "execution_count": 37,
   "metadata": {
    "pycharm": {
     "name": "#%%\n"
    }
   },
   "outputs": [
    {
     "data": {
      "text/plain": "                 perc   Average       Std\nNumber_features                          \n11                 98  0.822949  0.138110\n8                 100  0.819380  0.144388\n17                 96  0.775801  0.152118",
      "text/html": "<div>\n<style scoped>\n    .dataframe tbody tr th:only-of-type {\n        vertical-align: middle;\n    }\n\n    .dataframe tbody tr th {\n        vertical-align: top;\n    }\n\n    .dataframe thead th {\n        text-align: right;\n    }\n</style>\n<table border=\"1\" class=\"dataframe\">\n  <thead>\n    <tr style=\"text-align: right;\">\n      <th></th>\n      <th>perc</th>\n      <th>Average</th>\n      <th>Std</th>\n    </tr>\n    <tr>\n      <th>Number_features</th>\n      <th></th>\n      <th></th>\n      <th></th>\n    </tr>\n  </thead>\n  <tbody>\n    <tr>\n      <th>11</th>\n      <td>98</td>\n      <td>0.822949</td>\n      <td>0.138110</td>\n    </tr>\n    <tr>\n      <th>8</th>\n      <td>100</td>\n      <td>0.819380</td>\n      <td>0.144388</td>\n    </tr>\n    <tr>\n      <th>17</th>\n      <td>96</td>\n      <td>0.775801</td>\n      <td>0.152118</td>\n    </tr>\n  </tbody>\n</table>\n</div>"
     },
     "execution_count": 37,
     "metadata": {},
     "output_type": "execute_result"
    }
   ],
   "source": [
    "nb_score_df = nb_score_df.sort_values(by='Average', ascending=False)\n",
    "nb_score_df"
   ]
  },
  {
   "cell_type": "code",
   "execution_count": 38,
   "metadata": {
    "pycharm": {
     "name": "#%%\n"
    }
   },
   "outputs": [
    {
     "data": {
      "text/plain": "<Figure size 432x288 with 1 Axes>",
      "image/png": "[encoded data removed]"
     },
     "metadata": {
      "needs_background": "light"
     },
     "output_type": "display_data"
    }
   ],
   "source": [
    "plotting(nb_score_df, plt)"
   ]
  },
  {
   "cell_type": "code",
   "execution_count": 39,
   "metadata": {
    "pycharm": {
     "name": "#%%\n"
    }
   },
   "outputs": [
    {
     "name": "stdout",
     "output_type": "stream",
     "text": [
      "The best performing parameter (perc) is:\n"
     ]
    },
    {
     "data": {
      "text/plain": "                 perc   Average      Std\nNumber_features                         \n11                 98  0.822949  0.13811",
      "text/html": "<div>\n<style scoped>\n    .dataframe tbody tr th:only-of-type {\n        vertical-align: middle;\n    }\n\n    .dataframe tbody tr th {\n        vertical-align: top;\n    }\n\n    .dataframe thead th {\n        text-align: right;\n    }\n</style>\n<table border=\"1\" class=\"dataframe\">\n  <thead>\n    <tr style=\"text-align: right;\">\n      <th></th>\n      <th>perc</th>\n      <th>Average</th>\n      <th>Std</th>\n    </tr>\n    <tr>\n      <th>Number_features</th>\n      <th></th>\n      <th></th>\n      <th></th>\n    </tr>\n  </thead>\n  <tbody>\n    <tr>\n      <th>11</th>\n      <td>98</td>\n      <td>0.822949</td>\n      <td>0.13811</td>\n    </tr>\n  </tbody>\n</table>\n</div>"
     },
     "execution_count": 39,
     "metadata": {},
     "output_type": "execute_result"
    }
   ],
   "source": [
    "print('The best performing parameter (perc) is:')\n",
    "nb_score_df.loc[nb_score_df['Average'] == nb_score_df.Average.max()]"
   ]
  },
  {
   "cell_type": "markdown",
   "source": [
    "#### Best Performing Features (genes)\n",
    "\n",
    "Since both RF and NB shows perc=98 (11 features) as the best performing, we get the 11 genes along with their signature"
   ],
   "metadata": {
    "collapsed": false,
    "pycharm": {
     "name": "#%% md\n"
    }
   }
  },
  {
   "cell_type": "code",
   "execution_count": 40,
   "outputs": [
    {
     "data": {
      "text/plain": "['ATP1A2', 'PKP1', 'LAPTM4B', 'REEP2', 'ATP1B1', 'ZNF3', 'PLK1', 'JSRP1']"
     },
     "execution_count": 40,
     "metadata": {},
     "output_type": "execute_result"
    }
   ],
   "source": [
    "rfc = RandomForestClassifier()\n",
    "boruta_selector = BorutaPy(rfc, n_estimators='auto', alpha=0.10, perc=100, random_state=1)\n",
    "boruta_selector.fit(np.array(X_train), np.array(y_train.ravel()))\n",
    "selected_rf_features = pd.DataFrame({'Feature': list(X_train.columns),\n",
    "                                     'Ranking': boruta_selector.ranking_})\n",
    "important_features_list = selected_rf_features[selected_rf_features['Ranking'] == 1]['Feature'].to_list()\n",
    "important_features_list"
   ],
   "metadata": {
    "collapsed": false,
    "pycharm": {
     "name": "#%%\n"
    }
   }
  },
  {
   "cell_type": "markdown",
   "source": [
    "Add their corresponding signatures"
   ],
   "metadata": {
    "collapsed": false,
    "pycharm": {
     "name": "#%% md\n"
    }
   }
  },
  {
   "cell_type": "code",
   "execution_count": 41,
   "outputs": [
    {
     "data": {
      "text/plain": "               Signatures\nGenes                    \nATP1A2        PAX7_target\nPKP1          PAX7_target\nLAPTM4B  D4Z4_interactome\nREEP2         PAX7_target\nATP1B1        PAX7_target\nZNF3     D4Z4_interactome\nPLK1          PAX7_target\nJSRP1    D4Z4_interactome",
      "text/html": "<div>\n<style scoped>\n    .dataframe tbody tr th:only-of-type {\n        vertical-align: middle;\n    }\n\n    .dataframe tbody tr th {\n        vertical-align: top;\n    }\n\n    .dataframe thead th {\n        text-align: right;\n    }\n</style>\n<table border=\"1\" class=\"dataframe\">\n  <thead>\n    <tr style=\"text-align: right;\">\n      <th></th>\n      <th>Signatures</th>\n    </tr>\n    <tr>\n      <th>Genes</th>\n      <th></th>\n    </tr>\n  </thead>\n  <tbody>\n    <tr>\n      <th>ATP1A2</th>\n      <td>PAX7_target</td>\n    </tr>\n    <tr>\n      <th>PKP1</th>\n      <td>PAX7_target</td>\n    </tr>\n    <tr>\n      <th>LAPTM4B</th>\n      <td>D4Z4_interactome</td>\n    </tr>\n    <tr>\n      <th>REEP2</th>\n      <td>PAX7_target</td>\n    </tr>\n    <tr>\n      <th>ATP1B1</th>\n      <td>PAX7_target</td>\n    </tr>\n    <tr>\n      <th>ZNF3</th>\n      <td>D4Z4_interactome</td>\n    </tr>\n    <tr>\n      <th>PLK1</th>\n      <td>PAX7_target</td>\n    </tr>\n    <tr>\n      <th>JSRP1</th>\n      <td>D4Z4_interactome</td>\n    </tr>\n  </tbody>\n</table>\n</div>"
     },
     "execution_count": 41,
     "metadata": {},
     "output_type": "execute_result"
    }
   ],
   "source": [
    "from utils import read_gene_signature\n",
    "\n",
    "sig = read_gene_signature()\n",
    "sig_list = []\n",
    "\n",
    "for gene in important_features_list:\n",
    "    for key in sig:\n",
    "        if gene in sig.get(key):\n",
    "            sig_list.append(key)\n",
    "            break\n",
    "df = pd.DataFrame(list(zip(important_features_list, sig_list)),\n",
    "                  columns=['Genes', 'Signatures'])\n",
    "df.set_index('Genes')"
   ],
   "metadata": {
    "collapsed": false,
    "pycharm": {
     "name": "#%%\n"
    }
   }
  }
 ],
 "metadata": {
  "kernelspec": {
   "display_name": "Python 3 (ipykernel)",
   "language": "python",
   "name": "python3"
  },
  "language_info": {
   "codemirror_mode": {
    "name": "ipython",
    "version": 3
   },
   "file_extension": ".py",
   "mimetype": "text/x-python",
   "name": "python",
   "nbconvert_exporter": "python",
   "pygments_lexer": "ipython3",
   "version": "3.10.4"
  }
 },
 "nbformat": 4,
 "nbformat_minor": 1
}